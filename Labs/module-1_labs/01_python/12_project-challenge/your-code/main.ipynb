{
 "cells": [
  {
   "cell_type": "markdown",
   "metadata": {},
   "source": [
    "## Challenge A: Password Validator\n",
    "\n",
    "#### Description\n",
    "Your job is to create a simple password validation function, as seen on many websites.\n",
    "\n",
    "The rules for a valid password are as follows:\n",
    "\n",
    "There needs to be at least 1 uppercase letter.\n",
    "There needs to be at least 1 lowercase letter.\n",
    "There needs to be at least 1 number.\n",
    "The password needs to be at least 8 characters long.\n",
    "\n",
    "\n",
    "*You are permitted to use any methods to validate the password.*"
   ]
  },
  {
   "cell_type": "code",
   "execution_count": 15,
   "metadata": {},
   "outputs": [
    {
     "name": "stdin",
     "output_type": "stream",
     "text": [
      "Enter here your new password :\n",
      " amandine8\n"
     ]
    },
    {
     "name": "stdout",
     "output_type": "stream",
     "text": [
      "The password needs at least 1 uppercase letter.\n",
      "Your password is not valid, please restart !\n",
      "\n"
     ]
    },
    {
     "name": "stdin",
     "output_type": "stream",
     "text": [
      "Enter here your new password :\n",
      " Amandine8523*\n"
     ]
    },
    {
     "name": "stdout",
     "output_type": "stream",
     "text": [
      "Your password is valid\n",
      "\n"
     ]
    }
   ],
   "source": [
    "import re\n",
    "\n",
    "\n",
    "#Texte de bienvenue, création et conditions du mot de passe par l'utilisateur\n",
    "print(\"*** Welcome on our site ! ***\\n\\n\"\n",
    "    \"Now to finalize your inscription, we need to record your new password :)\\n\\n\"\n",
    "    \"Please, to create a secure password, you have to respect these conditions : \\n\"\n",
    "    \"- at least 1 uppercase letter. \\n\"\n",
    "    \"- at least 1 lowercase letter. \\n\"\n",
    "    \"- at least 1 number. \\n\"\n",
    "    \"- The password needs to be at least 8 characters long. \\n\"\n",
    "    )\n",
    "\n",
    "\n",
    "#Fonction pour tester si au moins 1 majuscule\n",
    "def test_uppercase(str1):\n",
    "    if len(re.findall('[A-Z]', str1)) >= 1:\n",
    "        return 0\n",
    "    else:\n",
    "        print(\"The password needs at least 1 uppercase letter.\")\n",
    "        return 1\n",
    "    \n",
    "    \n",
    "#Fonction pour tester si au moins 1 minuscule\n",
    "def test_lowercase(str2):\n",
    "    if len(re.findall('[a-z]', str2)) >= 1:\n",
    "        return 0\n",
    "    else:\n",
    "        print(\"The password needs at least 1 lowercase letter.\")\n",
    "        return 1\n",
    "\n",
    "    \n",
    "#Fonction pour tester si au moins 1 chiffre\n",
    "def test_number(str3):\n",
    "    if len(re.findall('\\d', str3)) >= 1:\n",
    "        return 0\n",
    "    else:\n",
    "        print(\"The password needs at least 1 number.\")\n",
    "        return 1\n",
    "    \n",
    "\n",
    "#Fonction pour tester si caractère espace dans le mot de passe, caractère interdit\n",
    "def test_space(str5):\n",
    "    if len(re.findall('\\s', str5)) >= 1:\n",
    "        print(\"The space is not allowed\")\n",
    "        return 1\n",
    "    else:\n",
    "        return 0\n",
    "    \n",
    "    \n",
    "#Fonction pour tester si au moins 8 caractères\n",
    "def test_len_characters(str4):\n",
    "    total_characters = len(str4)\n",
    "    if total_characters < 8:\n",
    "        print(\"The password needs to be at least 8 characters long.\")\n",
    "        return 1\n",
    "    else:\n",
    "        return 0\n",
    "    \n",
    "    \n",
    "#Fonction pour vérifier la validité du mot de passe\n",
    "def test_all(int1, int2, int3, int4, int5):\n",
    "    if int1 + int2 + int3 + int4 + int5 > 0:\n",
    "        return True\n",
    "    else:\n",
    "        return False\n",
    "\n",
    "    \n",
    "#Boucle de création de mot de passe valide, si non, l'utilisateur doit recommencer\n",
    "while True:\n",
    "    ask_password = input('Enter here your new password :\\n')\n",
    "    if test_all(test_len_characters(ask_password), test_uppercase(ask_password), \n",
    "                test_lowercase(ask_password), test_number(ask_password), test_space(ask_password)):\n",
    "        print('Your password is not valid, please restart !\\n')\n",
    "    else:\n",
    "        print('Your password is valid\\n')\n",
    "        break\n",
    "\n"
   ]
  },
  {
   "cell_type": "code",
   "execution_count": null,
   "metadata": {},
   "outputs": [],
   "source": []
  },
  {
   "cell_type": "code",
   "execution_count": null,
   "metadata": {},
   "outputs": [],
   "source": []
  }
 ],
 "metadata": {
  "kernelspec": {
   "display_name": "Python 3",
   "language": "python",
   "name": "python3"
  },
  "language_info": {
   "codemirror_mode": {
    "name": "ipython",
    "version": 3
   },
   "file_extension": ".py",
   "mimetype": "text/x-python",
   "name": "python",
   "nbconvert_exporter": "python",
   "pygments_lexer": "ipython3",
   "version": "3.8.5"
  }
 },
 "nbformat": 4,
 "nbformat_minor": 4
}
